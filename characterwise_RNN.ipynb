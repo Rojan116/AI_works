{
  "nbformat": 4,
  "nbformat_minor": 0,
  "metadata": {
    "colab": {
      "name": "characterwise RNN.ipynb",
      "provenance": [],
      "include_colab_link": true
    },
    "kernelspec": {
      "name": "python3",
      "display_name": "Python 3"
    },
    "accelerator": "GPU"
  },
  "cells": [
    {
      "cell_type": "markdown",
      "metadata": {
        "id": "view-in-github",
        "colab_type": "text"
      },
      "source": [
        "<a href=\"https://colab.research.google.com/github/Rojan116/AI_works/blob/master/characterwise_RNN.ipynb\" target=\"_parent\"><img src=\"https://colab.research.google.com/assets/colab-badge.svg\" alt=\"Open In Colab\"/></a>"
      ]
    },
    {
      "cell_type": "code",
      "metadata": {
        "id": "DCo-31IpR_4R",
        "colab_type": "code",
        "colab": {}
      },
      "source": [
        "import torch\n",
        "from torch import nn\n",
        "import numpy as np\n",
        "import torch.nn.functional as F"
      ],
      "execution_count": 0,
      "outputs": []
    },
    {
      "cell_type": "code",
      "metadata": {
        "id": "ppTkUoISS_39",
        "colab_type": "code",
        "colab": {}
      },
      "source": [
        "# open text file and read in data as `text`\n",
        "with open('data/anna.txt', 'r') as f:\n",
        "  text = f.read()"
      ],
      "execution_count": 0,
      "outputs": []
    },
    {
      "cell_type": "code",
      "metadata": {
        "id": "Y7bBeEQ95SlQ",
        "colab_type": "code",
        "outputId": "df0e0000-5f85-4d6e-c5d7-fe42ef71d386",
        "colab": {
          "base_uri": "https://localhost:8080/",
          "height": 34
        }
      },
      "source": [
        "#test\n",
        "text[:100]"
      ],
      "execution_count": 3,
      "outputs": [
        {
          "output_type": "execute_result",
          "data": {
            "text/plain": [
              "'Chapter 1\\n\\n\\nHappy families are all alike; every unhappy family is unhappy in its own\\nway.\\n\\nEverythin'"
            ]
          },
          "metadata": {
            "tags": []
          },
          "execution_count": 3
        }
      ]
    },
    {
      "cell_type": "code",
      "metadata": {
        "id": "2i-SH9BP5804",
        "colab_type": "code",
        "colab": {}
      },
      "source": [
        "# encode the text and map each character to an integer and vice versa\n",
        "\n",
        "# we create two dictionaries:\n",
        "# 1. int2char, which maps integers to characters\n",
        "# 2. char2int, which maps characters to unique integers\n",
        "chars = tuple(set(text))\n",
        "int2char = dict(enumerate(chars))\n",
        "char2int = {ch: ii for ii, ch in int2char.items()}\n",
        "\n",
        "# encode the text\n",
        "encoded = np.array([char2int[ch] for ch in text])"
      ],
      "execution_count": 0,
      "outputs": []
    },
    {
      "cell_type": "code",
      "metadata": {
        "id": "u52MKMkV6EZs",
        "colab_type": "code",
        "outputId": "a8a8507d-8b2d-4ad7-84fa-b7950a846123",
        "colab": {
          "base_uri": "https://localhost:8080/",
          "height": 119
        }
      },
      "source": [
        "encoded[:100]"
      ],
      "execution_count": 5,
      "outputs": [
        {
          "output_type": "execute_result",
          "data": {
            "text/plain": [
              "array([32, 29, 31, 25, 55, 68, 10, 30, 17, 13, 13, 13, 70, 31, 25, 25, 81,\n",
              "       30, 48, 31, 65, 26,  2, 26, 68, 15, 30, 31, 10, 68, 30, 31,  2,  2,\n",
              "       30, 31,  2, 26, 66, 68, 79, 30, 68, 44, 68, 10, 81, 30, 58, 21, 29,\n",
              "       31, 25, 25, 81, 30, 48, 31, 65, 26,  2, 81, 30, 26, 15, 30, 58, 21,\n",
              "       29, 31, 25, 25, 81, 30, 26, 21, 30, 26, 55, 15, 30, 59, 80, 21, 13,\n",
              "       80, 31, 81, 73, 13, 13, 33, 44, 68, 10, 81, 55, 29, 26, 21])"
            ]
          },
          "metadata": {
            "tags": []
          },
          "execution_count": 5
        }
      ]
    },
    {
      "cell_type": "code",
      "metadata": {
        "id": "o-9O04b_6RGn",
        "colab_type": "code",
        "colab": {}
      },
      "source": [
        "def one_hot_encode(arr, n_labels):\n",
        "    \n",
        "    # Initialize the the encoded array\n",
        "    one_hot = np.zeros((arr.size, n_labels), dtype=np.float32)\n",
        "    \n",
        "    # Fill the appropriate elements with ones\n",
        "    one_hot[np.arange(one_hot.shape[0]), arr.flatten()] = 1.\n",
        "    \n",
        "    # Finally reshape it to get back to the original array\n",
        "    one_hot = one_hot.reshape((*arr.shape, n_labels))\n",
        "    \n",
        "    return one_hot"
      ],
      "execution_count": 0,
      "outputs": []
    },
    {
      "cell_type": "code",
      "metadata": {
        "id": "BQaH37-q6dOY",
        "colab_type": "code",
        "colab": {}
      },
      "source": [
        "# check that the function works as expected\n",
        "test_seq = np.array([[3, 5, 1]])\n",
        "one_hot = one_hot_encode(test_seq, 8)"
      ],
      "execution_count": 0,
      "outputs": []
    },
    {
      "cell_type": "code",
      "metadata": {
        "id": "M3ZH093M6lQJ",
        "colab_type": "code",
        "outputId": "f570f492-6165-48a0-ea42-71f1c6b95180",
        "colab": {
          "base_uri": "https://localhost:8080/",
          "height": 68
        }
      },
      "source": [
        "print(one_hot)"
      ],
      "execution_count": 8,
      "outputs": [
        {
          "output_type": "stream",
          "text": [
            "[[[0. 0. 0. 1. 0. 0. 0. 0.]\n",
            "  [0. 0. 0. 0. 0. 1. 0. 0.]\n",
            "  [0. 1. 0. 0. 0. 0. 0. 0.]]]\n"
          ],
          "name": "stdout"
        }
      ]
    },
    {
      "cell_type": "code",
      "metadata": {
        "id": "v5ePGACU6tQq",
        "colab_type": "code",
        "colab": {}
      },
      "source": [
        "def get_batches(arr, batch_size, seq_length):\n",
        "    '''Create a generator that returns batches of size\n",
        "       batch_size x seq_length from arr.\n",
        "       \n",
        "       Arguments\n",
        "       ---------\n",
        "       arr: Array you want to make batches from\n",
        "       batch_size: Batch size, the number of sequences per batch\n",
        "       seq_length: Number of encoded chars in a sequence\n",
        "    '''\n",
        "    \n",
        "    batch_size_total = batch_size * seq_length\n",
        "    # total number of batches we can make\n",
        "    n_batches = len(arr)//batch_size_total\n",
        "    \n",
        "    # Keep only enough characters to make full batches\n",
        "    arr = arr[:n_batches * batch_size_total]\n",
        "    # Reshape into batch_size rows\n",
        "    arr = arr.reshape((batch_size, -1))\n",
        "    \n",
        "    # iterate through the array, one sequence at a time\n",
        "    for n in range(0, arr.shape[1], seq_length):\n",
        "        # The features\n",
        "        x = arr[:, n:n+seq_length]\n",
        "        # The targets, shifted by one\n",
        "        y = np.zeros_like(x)\n",
        "        try:\n",
        "            y[:, :-1], y[:, -1] = x[:, 1:], arr[:, n+seq_length]\n",
        "        except IndexError:\n",
        "            y[:, :-1], y[:, -1] = x[:, 1:], arr[:, 0]\n",
        "        yield x, y"
      ],
      "execution_count": 0,
      "outputs": []
    },
    {
      "cell_type": "code",
      "metadata": {
        "id": "g2hC-gzH64n3",
        "colab_type": "code",
        "colab": {}
      },
      "source": [
        "batches = get_batches(encoded, 8, 50)\n",
        "x, y = next(batches)"
      ],
      "execution_count": 0,
      "outputs": []
    },
    {
      "cell_type": "code",
      "metadata": {
        "id": "qToJMLAZ687Y",
        "colab_type": "code",
        "outputId": "a61af69c-266d-4389-b332-f387db72476a",
        "colab": {
          "base_uri": "https://localhost:8080/",
          "height": 340
        }
      },
      "source": [
        "# printing out the first 10 items in a sequence\n",
        "print('x\\n', x[:10, :10])\n",
        "print('\\ny\\n', y[:10, :10])"
      ],
      "execution_count": 11,
      "outputs": [
        {
          "output_type": "stream",
          "text": [
            "x\n",
            " [[32 29 31 25 55 68 10 30 17 13]\n",
            " [15 59 21 30 55 29 31 55 30 31]\n",
            " [68 21  1 30 59 10 30 31 30 48]\n",
            " [15 30 55 29 68 30 52 29 26 68]\n",
            " [30 15 31 80 30 29 68 10 30 55]\n",
            " [52 58 15 15 26 59 21 30 31 21]\n",
            " [30  5 21 21 31 30 29 31  1 30]\n",
            " [54 34  2 59 21 15 66 81 73 30]]\n",
            "\n",
            "y\n",
            " [[29 31 25 55 68 10 30 17 13 13]\n",
            " [59 21 30 55 29 31 55 30 31 55]\n",
            " [21  1 30 59 10 30 31 30 48 59]\n",
            " [30 55 29 68 30 52 29 26 68 48]\n",
            " [15 31 80 30 29 68 10 30 55 68]\n",
            " [58 15 15 26 59 21 30 31 21  1]\n",
            " [ 5 21 21 31 30 29 31  1 30 15]\n",
            " [34  2 59 21 15 66 81 73 30 49]]\n"
          ],
          "name": "stdout"
        }
      ]
    },
    {
      "cell_type": "code",
      "metadata": {
        "id": "KrVIH67w7Akm",
        "colab_type": "code",
        "outputId": "7f54efe8-cf96-4366-b354-0c308662c842",
        "colab": {
          "base_uri": "https://localhost:8080/",
          "height": 34
        }
      },
      "source": [
        "# check if GPU is available\n",
        "train_on_gpu = torch.cuda.is_available()\n",
        "if(train_on_gpu):\n",
        "    print('Training on GPU!')\n",
        "else: \n",
        "    print('No GPU available, training on CPU; consider making n_epochs very small.')"
      ],
      "execution_count": 12,
      "outputs": [
        {
          "output_type": "stream",
          "text": [
            "Training on GPU!\n"
          ],
          "name": "stdout"
        }
      ]
    },
    {
      "cell_type": "code",
      "metadata": {
        "id": "ZPG-Vlt07X8e",
        "colab_type": "code",
        "colab": {}
      },
      "source": [
        "class CharRNN(nn.Module):\n",
        "    \n",
        "    def __init__(self, tokens, n_hidden=256, n_layers=2,\n",
        "                               drop_prob=0.5, lr=0.001):\n",
        "        super().__init__()\n",
        "        self.drop_prob = drop_prob\n",
        "        self.n_layers = n_layers\n",
        "        self.n_hidden = n_hidden\n",
        "        self.lr = lr\n",
        "        \n",
        "        # creating character dictionaries\n",
        "        self.chars = tokens\n",
        "        self.int2char = dict(enumerate(self.chars))\n",
        "        self.char2int = {ch: ii for ii, ch in self.int2char.items()}\n",
        "        \n",
        "        ## TODO: define the LSTM\n",
        "        self.lstm = nn.LSTM(len(self.chars), n_hidden, n_layers, \n",
        "                            dropout=drop_prob, batch_first=True)\n",
        "        \n",
        "        ## TODO: define a dropout layer\n",
        "        self.dropout = nn.Dropout(drop_prob)\n",
        "        \n",
        "        ## TODO: define the final, fully-connected output layer\n",
        "        self.fc = nn.Linear(n_hidden, len(self.chars))\n",
        "      \n",
        "    \n",
        "    def forward(self, x, hidden):\n",
        "        ''' Forward pass through the network. \n",
        "            These inputs are x, and the hidden/cell state `hidden`. '''\n",
        "                \n",
        "        ## TODO: Get the outputs and the new hidden state from the lstm\n",
        "        r_output, hidden = self.lstm(x, hidden)\n",
        "        \n",
        "        ## TODO: pass through a dropout layer\n",
        "        out = self.dropout(r_output)\n",
        "        \n",
        "        # Stack up LSTM outputs using view\n",
        "        # you may need to use contiguous to reshape the output\n",
        "        out = out.contiguous().view(-1, self.n_hidden)\n",
        "        \n",
        "        ## TODO: put x through the fully-connected layer\n",
        "        out = self.fc(out)\n",
        "        \n",
        "        # return the final output and the hidden state\n",
        "        return out, hidden\n",
        "    \n",
        "    \n",
        "    def init_hidden(self, batch_size):\n",
        "        ''' Initializes hidden state '''\n",
        "        # Create two new tensors with sizes n_layers x batch_size x n_hidden,\n",
        "        # initialized to zero, for hidden state and cell state of LSTM\n",
        "        weight = next(self.parameters()).data\n",
        "        \n",
        "        if (train_on_gpu):\n",
        "            hidden = (weight.new(self.n_layers, batch_size, self.n_hidden).zero_().cuda(),\n",
        "                  weight.new(self.n_layers, batch_size, self.n_hidden).zero_().cuda())\n",
        "        else:\n",
        "            hidden = (weight.new(self.n_layers, batch_size, self.n_hidden).zero_(),\n",
        "                      weight.new(self.n_layers, batch_size, self.n_hidden).zero_())\n",
        "        \n",
        "        return hidden"
      ],
      "execution_count": 0,
      "outputs": []
    },
    {
      "cell_type": "code",
      "metadata": {
        "id": "OFPTTH1X7fNd",
        "colab_type": "code",
        "colab": {}
      },
      "source": [
        "def train(net, data, epochs=10, batch_size=10, seq_length=50, lr=0.001, clip=5, val_frac=0.1, print_every=10):\n",
        "    ''' Training a network \n",
        "    \n",
        "        Arguments\n",
        "        ---------\n",
        "        \n",
        "        net: CharRNN network\n",
        "        data: text data to train the network\n",
        "        epochs: Number of epochs to train\n",
        "        batch_size: Number of mini-sequences per mini-batch, aka batch size\n",
        "        seq_length: Number of character steps per mini-batch\n",
        "        lr: learning rate\n",
        "        clip: gradient clipping\n",
        "        val_frac: Fraction of data to hold out for validation\n",
        "        print_every: Number of steps for printing training and validation loss\n",
        "    \n",
        "    '''\n",
        "    net.train()\n",
        "    \n",
        "    opt = torch.optim.Adam(net.parameters(), lr=lr)\n",
        "    criterion = nn.CrossEntropyLoss()\n",
        "    \n",
        "    # create training and validation data\n",
        "    val_idx = int(len(data)*(1-val_frac))\n",
        "    data, val_data = data[:val_idx], data[val_idx:]\n",
        "    \n",
        "    if(train_on_gpu):\n",
        "        net.cuda()\n",
        "    \n",
        "    counter = 0\n",
        "    n_chars = len(net.chars)\n",
        "    for e in range(epochs):\n",
        "        # initialize hidden state\n",
        "        h = net.init_hidden(batch_size)\n",
        "        \n",
        "        for x, y in get_batches(data, batch_size, seq_length):\n",
        "            counter += 1\n",
        "            \n",
        "            # One-hot encode our data and make them Torch tensors\n",
        "            x = one_hot_encode(x, n_chars)\n",
        "            inputs, targets = torch.from_numpy(x), torch.from_numpy(y)\n",
        "            \n",
        "            if(train_on_gpu):\n",
        "                inputs, targets = inputs.cuda(), targets.cuda()\n",
        "\n",
        "            # Creating new variables for the hidden state, otherwise\n",
        "            # we'd backprop through the entire training history\n",
        "            h = tuple([each.data for each in h])\n",
        "\n",
        "            # zero accumulated gradients\n",
        "            net.zero_grad()\n",
        "            \n",
        "            # get the output from the model\n",
        "            output, h = net(inputs, h)\n",
        "            \n",
        "            # calculate the loss and perform backprop\n",
        "            loss = criterion(output, targets.view(batch_size*seq_length).long())\n",
        "            loss.backward()\n",
        "            # `clip_grad_norm` helps prevent the exploding gradient problem in RNNs / LSTMs.\n",
        "            nn.utils.clip_grad_norm_(net.parameters(), clip)\n",
        "            opt.step()\n",
        "            \n",
        "            # loss stats\n",
        "            if counter % print_every == 0:\n",
        "                # Get validation loss\n",
        "                val_h = net.init_hidden(batch_size)\n",
        "                val_losses = []\n",
        "                net.eval()\n",
        "                for x, y in get_batches(val_data, batch_size, seq_length):\n",
        "                    # One-hot encode our data and make them Torch tensors\n",
        "                    x = one_hot_encode(x, n_chars)\n",
        "                    x, y = torch.from_numpy(x), torch.from_numpy(y)\n",
        "                    \n",
        "                    # Creating new variables for the hidden state, otherwise\n",
        "                    # we'd backprop through the entire training history\n",
        "                    val_h = tuple([each.data for each in val_h])\n",
        "                    \n",
        "                    inputs, targets = x, y\n",
        "                    if(train_on_gpu):\n",
        "                        inputs, targets = inputs.cuda(), targets.cuda()\n",
        "\n",
        "                    output, val_h = net(inputs, val_h)\n",
        "                    val_loss = criterion(output, targets.view(batch_size*seq_length).long())\n",
        "                \n",
        "                    val_losses.append(val_loss.item())\n",
        "                \n",
        "                net.train() # reset to train mode after iterationg through validation data\n",
        "                \n",
        "                print(\"Epoch: {}/{}...\".format(e+1, epochs),\n",
        "                      \"Step: {}...\".format(counter),\n",
        "                      \"Loss: {:.4f}...\".format(loss.item()),\n",
        "                      \"Val Loss: {:.4f}\".format(np.mean(val_losses)))"
      ],
      "execution_count": 0,
      "outputs": []
    },
    {
      "cell_type": "code",
      "metadata": {
        "id": "y7j4inKT7kP0",
        "colab_type": "code",
        "outputId": "4ba245f4-6b82-4b24-8dfa-e475f1db51b3",
        "colab": {
          "base_uri": "https://localhost:8080/",
          "height": 102
        }
      },
      "source": [
        "\n",
        "# define and print the net\n",
        "n_hidden=512\n",
        "n_layers=2\n",
        "\n",
        "net = CharRNN(chars, n_hidden, n_layers)\n",
        "print(net)"
      ],
      "execution_count": 15,
      "outputs": [
        {
          "output_type": "stream",
          "text": [
            "CharRNN(\n",
            "  (lstm): LSTM(83, 512, num_layers=2, batch_first=True, dropout=0.5)\n",
            "  (dropout): Dropout(p=0.5, inplace=False)\n",
            "  (fc): Linear(in_features=512, out_features=83, bias=True)\n",
            ")\n"
          ],
          "name": "stdout"
        }
      ]
    },
    {
      "cell_type": "code",
      "metadata": {
        "id": "hmdhXh1H7oU_",
        "colab_type": "code",
        "outputId": "a5ecc317-0a0f-49e5-e1b3-0d1a5171ae13",
        "colab": {
          "base_uri": "https://localhost:8080/",
          "height": 1000
        }
      },
      "source": [
        "\n",
        "batch_size = 128\n",
        "seq_length = 100\n",
        "n_epochs = 20 # start smaller if you are just testing initial behavior\n",
        "\n",
        "# train the model\n",
        "train(net, encoded, epochs=n_epochs, batch_size=batch_size, seq_length=seq_length, lr=0.001, print_every=10)"
      ],
      "execution_count": 16,
      "outputs": [
        {
          "output_type": "stream",
          "text": [
            "Epoch: 1/20... Step: 10... Loss: 3.2385... Val Loss: 3.1875\n",
            "Epoch: 1/20... Step: 20... Loss: 3.1531... Val Loss: 3.1328\n",
            "Epoch: 1/20... Step: 30... Loss: 3.1424... Val Loss: 3.1235\n",
            "Epoch: 1/20... Step: 40... Loss: 3.1095... Val Loss: 3.1195\n",
            "Epoch: 1/20... Step: 50... Loss: 3.1427... Val Loss: 3.1172\n",
            "Epoch: 1/20... Step: 60... Loss: 3.1137... Val Loss: 3.1140\n",
            "Epoch: 1/20... Step: 70... Loss: 3.1028... Val Loss: 3.1094\n",
            "Epoch: 1/20... Step: 80... Loss: 3.1112... Val Loss: 3.1003\n",
            "Epoch: 1/20... Step: 90... Loss: 3.0988... Val Loss: 3.0828\n",
            "Epoch: 1/20... Step: 100... Loss: 3.0445... Val Loss: 3.0250\n",
            "Epoch: 1/20... Step: 110... Loss: 2.9501... Val Loss: 2.9228\n",
            "Epoch: 1/20... Step: 120... Loss: 2.8204... Val Loss: 2.8145\n",
            "Epoch: 1/20... Step: 130... Loss: 2.7184... Val Loss: 2.6709\n",
            "Epoch: 2/20... Step: 140... Loss: 2.6277... Val Loss: 2.5700\n",
            "Epoch: 2/20... Step: 150... Loss: 2.5563... Val Loss: 2.5131\n",
            "Epoch: 2/20... Step: 160... Loss: 2.5059... Val Loss: 2.4649\n",
            "Epoch: 2/20... Step: 170... Loss: 2.4725... Val Loss: 2.4559\n",
            "Epoch: 2/20... Step: 180... Loss: 2.4357... Val Loss: 2.4049\n",
            "Epoch: 2/20... Step: 190... Loss: 2.3721... Val Loss: 2.3756\n",
            "Epoch: 2/20... Step: 200... Loss: 2.3652... Val Loss: 2.3411\n",
            "Epoch: 2/20... Step: 210... Loss: 2.3458... Val Loss: 2.3148\n",
            "Epoch: 2/20... Step: 220... Loss: 2.3074... Val Loss: 2.2855\n",
            "Epoch: 2/20... Step: 230... Loss: 2.2948... Val Loss: 2.2587\n",
            "Epoch: 2/20... Step: 240... Loss: 2.2786... Val Loss: 2.2356\n",
            "Epoch: 2/20... Step: 250... Loss: 2.2077... Val Loss: 2.2125\n",
            "Epoch: 2/20... Step: 260... Loss: 2.1906... Val Loss: 2.1879\n",
            "Epoch: 2/20... Step: 270... Loss: 2.1920... Val Loss: 2.1685\n",
            "Epoch: 3/20... Step: 280... Loss: 2.1937... Val Loss: 2.1452\n",
            "Epoch: 3/20... Step: 290... Loss: 2.1533... Val Loss: 2.1217\n",
            "Epoch: 3/20... Step: 300... Loss: 2.1315... Val Loss: 2.0976\n",
            "Epoch: 3/20... Step: 310... Loss: 2.1132... Val Loss: 2.0801\n",
            "Epoch: 3/20... Step: 320... Loss: 2.0761... Val Loss: 2.0643\n",
            "Epoch: 3/20... Step: 330... Loss: 2.0532... Val Loss: 2.0504\n",
            "Epoch: 3/20... Step: 340... Loss: 2.0713... Val Loss: 2.0391\n",
            "Epoch: 3/20... Step: 350... Loss: 2.0482... Val Loss: 2.0104\n",
            "Epoch: 3/20... Step: 360... Loss: 1.9830... Val Loss: 1.9943\n",
            "Epoch: 3/20... Step: 370... Loss: 2.0066... Val Loss: 1.9779\n",
            "Epoch: 3/20... Step: 380... Loss: 1.9849... Val Loss: 1.9599\n",
            "Epoch: 3/20... Step: 390... Loss: 1.9611... Val Loss: 1.9474\n",
            "Epoch: 3/20... Step: 400... Loss: 1.9316... Val Loss: 1.9318\n",
            "Epoch: 3/20... Step: 410... Loss: 1.9457... Val Loss: 1.9186\n",
            "Epoch: 4/20... Step: 420... Loss: 1.9303... Val Loss: 1.9035\n",
            "Epoch: 4/20... Step: 430... Loss: 1.9184... Val Loss: 1.8842\n",
            "Epoch: 4/20... Step: 440... Loss: 1.9105... Val Loss: 1.8777\n",
            "Epoch: 4/20... Step: 450... Loss: 1.8451... Val Loss: 1.8613\n",
            "Epoch: 4/20... Step: 460... Loss: 1.8299... Val Loss: 1.8516\n",
            "Epoch: 4/20... Step: 470... Loss: 1.8670... Val Loss: 1.8403\n",
            "Epoch: 4/20... Step: 480... Loss: 1.8406... Val Loss: 1.8308\n",
            "Epoch: 4/20... Step: 490... Loss: 1.8459... Val Loss: 1.8165\n",
            "Epoch: 4/20... Step: 500... Loss: 1.8486... Val Loss: 1.8060\n",
            "Epoch: 4/20... Step: 510... Loss: 1.8275... Val Loss: 1.7961\n",
            "Epoch: 4/20... Step: 520... Loss: 1.8320... Val Loss: 1.7826\n",
            "Epoch: 4/20... Step: 530... Loss: 1.7959... Val Loss: 1.7752\n",
            "Epoch: 4/20... Step: 540... Loss: 1.7609... Val Loss: 1.7688\n",
            "Epoch: 4/20... Step: 550... Loss: 1.8067... Val Loss: 1.7549\n",
            "Epoch: 5/20... Step: 560... Loss: 1.7671... Val Loss: 1.7504\n",
            "Epoch: 5/20... Step: 570... Loss: 1.7548... Val Loss: 1.7392\n",
            "Epoch: 5/20... Step: 580... Loss: 1.7300... Val Loss: 1.7278\n",
            "Epoch: 5/20... Step: 590... Loss: 1.7427... Val Loss: 1.7204\n",
            "Epoch: 5/20... Step: 600... Loss: 1.7283... Val Loss: 1.7116\n",
            "Epoch: 5/20... Step: 610... Loss: 1.7062... Val Loss: 1.7046\n",
            "Epoch: 5/20... Step: 620... Loss: 1.7260... Val Loss: 1.6976\n",
            "Epoch: 5/20... Step: 630... Loss: 1.7313... Val Loss: 1.6922\n",
            "Epoch: 5/20... Step: 640... Loss: 1.7016... Val Loss: 1.6842\n",
            "Epoch: 5/20... Step: 650... Loss: 1.6876... Val Loss: 1.6797\n",
            "Epoch: 5/20... Step: 660... Loss: 1.6674... Val Loss: 1.6721\n",
            "Epoch: 5/20... Step: 670... Loss: 1.6959... Val Loss: 1.6632\n",
            "Epoch: 5/20... Step: 680... Loss: 1.6897... Val Loss: 1.6556\n",
            "Epoch: 5/20... Step: 690... Loss: 1.6544... Val Loss: 1.6511\n",
            "Epoch: 6/20... Step: 700... Loss: 1.6671... Val Loss: 1.6444\n",
            "Epoch: 6/20... Step: 710... Loss: 1.6510... Val Loss: 1.6398\n",
            "Epoch: 6/20... Step: 720... Loss: 1.6399... Val Loss: 1.6321\n",
            "Epoch: 6/20... Step: 730... Loss: 1.6483... Val Loss: 1.6258\n",
            "Epoch: 6/20... Step: 740... Loss: 1.6212... Val Loss: 1.6210\n",
            "Epoch: 6/20... Step: 750... Loss: 1.6007... Val Loss: 1.6165\n",
            "Epoch: 6/20... Step: 760... Loss: 1.6424... Val Loss: 1.6122\n",
            "Epoch: 6/20... Step: 770... Loss: 1.6210... Val Loss: 1.6082\n",
            "Epoch: 6/20... Step: 780... Loss: 1.6103... Val Loss: 1.6020\n",
            "Epoch: 6/20... Step: 790... Loss: 1.5960... Val Loss: 1.5980\n",
            "Epoch: 6/20... Step: 800... Loss: 1.6073... Val Loss: 1.5928\n",
            "Epoch: 6/20... Step: 810... Loss: 1.5877... Val Loss: 1.5942\n",
            "Epoch: 6/20... Step: 820... Loss: 1.5613... Val Loss: 1.5851\n",
            "Epoch: 6/20... Step: 830... Loss: 1.6091... Val Loss: 1.5782\n",
            "Epoch: 7/20... Step: 840... Loss: 1.5584... Val Loss: 1.5785\n",
            "Epoch: 7/20... Step: 850... Loss: 1.5714... Val Loss: 1.5712\n",
            "Epoch: 7/20... Step: 860... Loss: 1.5547... Val Loss: 1.5627\n",
            "Epoch: 7/20... Step: 870... Loss: 1.5709... Val Loss: 1.5584\n",
            "Epoch: 7/20... Step: 880... Loss: 1.5741... Val Loss: 1.5565\n",
            "Epoch: 7/20... Step: 890... Loss: 1.5637... Val Loss: 1.5544\n",
            "Epoch: 7/20... Step: 900... Loss: 1.5474... Val Loss: 1.5543\n",
            "Epoch: 7/20... Step: 910... Loss: 1.5272... Val Loss: 1.5467\n",
            "Epoch: 7/20... Step: 920... Loss: 1.5505... Val Loss: 1.5391\n",
            "Epoch: 7/20... Step: 930... Loss: 1.5317... Val Loss: 1.5331\n",
            "Epoch: 7/20... Step: 940... Loss: 1.5307... Val Loss: 1.5393\n",
            "Epoch: 7/20... Step: 950... Loss: 1.5460... Val Loss: 1.5342\n",
            "Epoch: 7/20... Step: 960... Loss: 1.5426... Val Loss: 1.5296\n",
            "Epoch: 7/20... Step: 970... Loss: 1.5514... Val Loss: 1.5248\n",
            "Epoch: 8/20... Step: 980... Loss: 1.5198... Val Loss: 1.5239\n",
            "Epoch: 8/20... Step: 990... Loss: 1.5150... Val Loss: 1.5197\n",
            "Epoch: 8/20... Step: 1000... Loss: 1.5153... Val Loss: 1.5123\n",
            "Epoch: 8/20... Step: 1010... Loss: 1.5451... Val Loss: 1.5111\n",
            "Epoch: 8/20... Step: 1020... Loss: 1.5229... Val Loss: 1.5061\n",
            "Epoch: 8/20... Step: 1030... Loss: 1.5054... Val Loss: 1.5017\n",
            "Epoch: 8/20... Step: 1040... Loss: 1.5090... Val Loss: 1.4990\n",
            "Epoch: 8/20... Step: 1050... Loss: 1.4943... Val Loss: 1.5008\n",
            "Epoch: 8/20... Step: 1060... Loss: 1.4929... Val Loss: 1.4972\n",
            "Epoch: 8/20... Step: 1070... Loss: 1.4942... Val Loss: 1.4922\n",
            "Epoch: 8/20... Step: 1080... Loss: 1.4980... Val Loss: 1.4906\n",
            "Epoch: 8/20... Step: 1090... Loss: 1.4815... Val Loss: 1.4865\n",
            "Epoch: 8/20... Step: 1100... Loss: 1.4716... Val Loss: 1.4818\n",
            "Epoch: 8/20... Step: 1110... Loss: 1.4833... Val Loss: 1.4793\n",
            "Epoch: 9/20... Step: 1120... Loss: 1.4888... Val Loss: 1.4816\n",
            "Epoch: 9/20... Step: 1130... Loss: 1.4768... Val Loss: 1.4751\n",
            "Epoch: 9/20... Step: 1140... Loss: 1.4857... Val Loss: 1.4720\n",
            "Epoch: 9/20... Step: 1150... Loss: 1.4928... Val Loss: 1.4702\n",
            "Epoch: 9/20... Step: 1160... Loss: 1.4522... Val Loss: 1.4668\n",
            "Epoch: 9/20... Step: 1170... Loss: 1.4614... Val Loss: 1.4642\n",
            "Epoch: 9/20... Step: 1180... Loss: 1.4487... Val Loss: 1.4618\n",
            "Epoch: 9/20... Step: 1190... Loss: 1.4857... Val Loss: 1.4632\n",
            "Epoch: 9/20... Step: 1200... Loss: 1.4372... Val Loss: 1.4573\n",
            "Epoch: 9/20... Step: 1210... Loss: 1.4462... Val Loss: 1.4532\n",
            "Epoch: 9/20... Step: 1220... Loss: 1.4478... Val Loss: 1.4528\n",
            "Epoch: 9/20... Step: 1230... Loss: 1.4381... Val Loss: 1.4513\n",
            "Epoch: 9/20... Step: 1240... Loss: 1.4406... Val Loss: 1.4459\n",
            "Epoch: 9/20... Step: 1250... Loss: 1.4363... Val Loss: 1.4455\n",
            "Epoch: 10/20... Step: 1260... Loss: 1.4368... Val Loss: 1.4440\n",
            "Epoch: 10/20... Step: 1270... Loss: 1.4382... Val Loss: 1.4403\n",
            "Epoch: 10/20... Step: 1280... Loss: 1.4476... Val Loss: 1.4387\n",
            "Epoch: 10/20... Step: 1290... Loss: 1.4483... Val Loss: 1.4354\n",
            "Epoch: 10/20... Step: 1300... Loss: 1.4359... Val Loss: 1.4330\n",
            "Epoch: 10/20... Step: 1310... Loss: 1.4416... Val Loss: 1.4337\n",
            "Epoch: 10/20... Step: 1320... Loss: 1.4002... Val Loss: 1.4321\n",
            "Epoch: 10/20... Step: 1330... Loss: 1.4093... Val Loss: 1.4326\n",
            "Epoch: 10/20... Step: 1340... Loss: 1.4058... Val Loss: 1.4282\n",
            "Epoch: 10/20... Step: 1350... Loss: 1.4016... Val Loss: 1.4273\n",
            "Epoch: 10/20... Step: 1360... Loss: 1.4037... Val Loss: 1.4273\n",
            "Epoch: 10/20... Step: 1370... Loss: 1.3921... Val Loss: 1.4200\n",
            "Epoch: 10/20... Step: 1380... Loss: 1.4327... Val Loss: 1.4194\n",
            "Epoch: 10/20... Step: 1390... Loss: 1.4447... Val Loss: 1.4175\n",
            "Epoch: 11/20... Step: 1400... Loss: 1.4297... Val Loss: 1.4140\n",
            "Epoch: 11/20... Step: 1410... Loss: 1.4461... Val Loss: 1.4152\n",
            "Epoch: 11/20... Step: 1420... Loss: 1.4332... Val Loss: 1.4120\n",
            "Epoch: 11/20... Step: 1430... Loss: 1.4051... Val Loss: 1.4102\n",
            "Epoch: 11/20... Step: 1440... Loss: 1.4231... Val Loss: 1.4064\n",
            "Epoch: 11/20... Step: 1450... Loss: 1.3445... Val Loss: 1.4054\n",
            "Epoch: 11/20... Step: 1460... Loss: 1.3837... Val Loss: 1.4028\n",
            "Epoch: 11/20... Step: 1470... Loss: 1.3692... Val Loss: 1.4065\n",
            "Epoch: 11/20... Step: 1480... Loss: 1.4030... Val Loss: 1.4057\n",
            "Epoch: 11/20... Step: 1490... Loss: 1.3877... Val Loss: 1.4053\n",
            "Epoch: 11/20... Step: 1500... Loss: 1.3688... Val Loss: 1.4045\n",
            "Epoch: 11/20... Step: 1510... Loss: 1.3595... Val Loss: 1.3960\n",
            "Epoch: 11/20... Step: 1520... Loss: 1.3951... Val Loss: 1.3956\n",
            "Epoch: 12/20... Step: 1530... Loss: 1.4413... Val Loss: 1.3940\n",
            "Epoch: 12/20... Step: 1540... Loss: 1.3975... Val Loss: 1.3915\n",
            "Epoch: 12/20... Step: 1550... Loss: 1.3980... Val Loss: 1.3926\n",
            "Epoch: 12/20... Step: 1560... Loss: 1.4090... Val Loss: 1.3908\n",
            "Epoch: 12/20... Step: 1570... Loss: 1.3606... Val Loss: 1.3913\n",
            "Epoch: 12/20... Step: 1580... Loss: 1.3432... Val Loss: 1.3861\n",
            "Epoch: 12/20... Step: 1590... Loss: 1.3322... Val Loss: 1.3856\n",
            "Epoch: 12/20... Step: 1600... Loss: 1.3558... Val Loss: 1.3844\n",
            "Epoch: 12/20... Step: 1610... Loss: 1.3529... Val Loss: 1.3860\n",
            "Epoch: 12/20... Step: 1620... Loss: 1.3460... Val Loss: 1.3841\n",
            "Epoch: 12/20... Step: 1630... Loss: 1.3708... Val Loss: 1.3826\n",
            "Epoch: 12/20... Step: 1640... Loss: 1.3486... Val Loss: 1.3846\n",
            "Epoch: 12/20... Step: 1650... Loss: 1.3261... Val Loss: 1.3787\n",
            "Epoch: 12/20... Step: 1660... Loss: 1.3810... Val Loss: 1.3761\n",
            "Epoch: 13/20... Step: 1670... Loss: 1.3538... Val Loss: 1.3798\n",
            "Epoch: 13/20... Step: 1680... Loss: 1.3669... Val Loss: 1.3742\n",
            "Epoch: 13/20... Step: 1690... Loss: 1.3432... Val Loss: 1.3745\n",
            "Epoch: 13/20... Step: 1700... Loss: 1.3402... Val Loss: 1.3749\n",
            "Epoch: 13/20... Step: 1710... Loss: 1.3249... Val Loss: 1.3732\n",
            "Epoch: 13/20... Step: 1720... Loss: 1.3304... Val Loss: 1.3689\n",
            "Epoch: 13/20... Step: 1730... Loss: 1.3660... Val Loss: 1.3705\n",
            "Epoch: 13/20... Step: 1740... Loss: 1.3331... Val Loss: 1.3692\n",
            "Epoch: 13/20... Step: 1750... Loss: 1.3086... Val Loss: 1.3720\n",
            "Epoch: 13/20... Step: 1760... Loss: 1.3317... Val Loss: 1.3685\n",
            "Epoch: 13/20... Step: 1770... Loss: 1.3519... Val Loss: 1.3670\n",
            "Epoch: 13/20... Step: 1780... Loss: 1.3308... Val Loss: 1.3661\n",
            "Epoch: 13/20... Step: 1790... Loss: 1.3141... Val Loss: 1.3595\n",
            "Epoch: 13/20... Step: 1800... Loss: 1.3447... Val Loss: 1.3605\n",
            "Epoch: 14/20... Step: 1810... Loss: 1.3441... Val Loss: 1.3616\n",
            "Epoch: 14/20... Step: 1820... Loss: 1.3222... Val Loss: 1.3574\n",
            "Epoch: 14/20... Step: 1830... Loss: 1.3360... Val Loss: 1.3562\n",
            "Epoch: 14/20... Step: 1840... Loss: 1.2864... Val Loss: 1.3602\n",
            "Epoch: 14/20... Step: 1850... Loss: 1.2781... Val Loss: 1.3571\n",
            "Epoch: 14/20... Step: 1860... Loss: 1.3294... Val Loss: 1.3535\n",
            "Epoch: 14/20... Step: 1870... Loss: 1.3312... Val Loss: 1.3526\n",
            "Epoch: 14/20... Step: 1880... Loss: 1.3271... Val Loss: 1.3566\n",
            "Epoch: 14/20... Step: 1890... Loss: 1.3415... Val Loss: 1.3592\n",
            "Epoch: 14/20... Step: 1900... Loss: 1.3218... Val Loss: 1.3544\n",
            "Epoch: 14/20... Step: 1910... Loss: 1.3212... Val Loss: 1.3532\n",
            "Epoch: 14/20... Step: 1920... Loss: 1.3189... Val Loss: 1.3506\n",
            "Epoch: 14/20... Step: 1930... Loss: 1.2880... Val Loss: 1.3497\n",
            "Epoch: 14/20... Step: 1940... Loss: 1.3421... Val Loss: 1.3463\n",
            "Epoch: 15/20... Step: 1950... Loss: 1.3068... Val Loss: 1.3538\n",
            "Epoch: 15/20... Step: 1960... Loss: 1.3018... Val Loss: 1.3416\n",
            "Epoch: 15/20... Step: 1970... Loss: 1.3080... Val Loss: 1.3416\n",
            "Epoch: 15/20... Step: 1980... Loss: 1.2918... Val Loss: 1.3466\n",
            "Epoch: 15/20... Step: 1990... Loss: 1.2950... Val Loss: 1.3450\n",
            "Epoch: 15/20... Step: 2000... Loss: 1.2824... Val Loss: 1.3436\n",
            "Epoch: 15/20... Step: 2010... Loss: 1.3116... Val Loss: 1.3403\n",
            "Epoch: 15/20... Step: 2020... Loss: 1.3237... Val Loss: 1.3420\n",
            "Epoch: 15/20... Step: 2030... Loss: 1.2926... Val Loss: 1.3390\n",
            "Epoch: 15/20... Step: 2040... Loss: 1.3065... Val Loss: 1.3398\n",
            "Epoch: 15/20... Step: 2050... Loss: 1.2883... Val Loss: 1.3401\n",
            "Epoch: 15/20... Step: 2060... Loss: 1.3053... Val Loss: 1.3395\n",
            "Epoch: 15/20... Step: 2070... Loss: 1.3035... Val Loss: 1.3372\n",
            "Epoch: 15/20... Step: 2080... Loss: 1.2998... Val Loss: 1.3368\n",
            "Epoch: 16/20... Step: 2090... Loss: 1.3001... Val Loss: 1.3361\n",
            "Epoch: 16/20... Step: 2100... Loss: 1.2923... Val Loss: 1.3293\n",
            "Epoch: 16/20... Step: 2110... Loss: 1.2817... Val Loss: 1.3320\n",
            "Epoch: 16/20... Step: 2120... Loss: 1.2963... Val Loss: 1.3333\n",
            "Epoch: 16/20... Step: 2130... Loss: 1.2714... Val Loss: 1.3333\n",
            "Epoch: 16/20... Step: 2140... Loss: 1.2797... Val Loss: 1.3286\n",
            "Epoch: 16/20... Step: 2150... Loss: 1.3023... Val Loss: 1.3278\n",
            "Epoch: 16/20... Step: 2160... Loss: 1.2901... Val Loss: 1.3291\n",
            "Epoch: 16/20... Step: 2170... Loss: 1.2894... Val Loss: 1.3261\n",
            "Epoch: 16/20... Step: 2180... Loss: 1.2767... Val Loss: 1.3275\n",
            "Epoch: 16/20... Step: 2190... Loss: 1.2954... Val Loss: 1.3282\n",
            "Epoch: 16/20... Step: 2200... Loss: 1.2791... Val Loss: 1.3249\n",
            "Epoch: 16/20... Step: 2210... Loss: 1.2386... Val Loss: 1.3248\n",
            "Epoch: 16/20... Step: 2220... Loss: 1.2851... Val Loss: 1.3269\n",
            "Epoch: 17/20... Step: 2230... Loss: 1.2606... Val Loss: 1.3238\n",
            "Epoch: 17/20... Step: 2240... Loss: 1.2765... Val Loss: 1.3192\n",
            "Epoch: 17/20... Step: 2250... Loss: 1.2562... Val Loss: 1.3229\n",
            "Epoch: 17/20... Step: 2260... Loss: 1.2662... Val Loss: 1.3226\n",
            "Epoch: 17/20... Step: 2270... Loss: 1.2816... Val Loss: 1.3210\n",
            "Epoch: 17/20... Step: 2280... Loss: 1.2828... Val Loss: 1.3151\n",
            "Epoch: 17/20... Step: 2290... Loss: 1.2792... Val Loss: 1.3164\n",
            "Epoch: 17/20... Step: 2300... Loss: 1.2494... Val Loss: 1.3178\n",
            "Epoch: 17/20... Step: 2310... Loss: 1.2678... Val Loss: 1.3158\n",
            "Epoch: 17/20... Step: 2320... Loss: 1.2549... Val Loss: 1.3204\n",
            "Epoch: 17/20... Step: 2330... Loss: 1.2524... Val Loss: 1.3202\n",
            "Epoch: 17/20... Step: 2340... Loss: 1.2793... Val Loss: 1.3181\n",
            "Epoch: 17/20... Step: 2350... Loss: 1.2802... Val Loss: 1.3138\n",
            "Epoch: 17/20... Step: 2360... Loss: 1.2797... Val Loss: 1.3169\n",
            "Epoch: 18/20... Step: 2370... Loss: 1.2548... Val Loss: 1.3182\n",
            "Epoch: 18/20... Step: 2380... Loss: 1.2544... Val Loss: 1.3137\n",
            "Epoch: 18/20... Step: 2390... Loss: 1.2674... Val Loss: 1.3149\n",
            "Epoch: 18/20... Step: 2400... Loss: 1.2801... Val Loss: 1.3135\n",
            "Epoch: 18/20... Step: 2410... Loss: 1.2776... Val Loss: 1.3131\n",
            "Epoch: 18/20... Step: 2420... Loss: 1.2545... Val Loss: 1.3069\n",
            "Epoch: 18/20... Step: 2430... Loss: 1.2633... Val Loss: 1.3063\n",
            "Epoch: 18/20... Step: 2440... Loss: 1.2428... Val Loss: 1.3079\n",
            "Epoch: 18/20... Step: 2450... Loss: 1.2440... Val Loss: 1.3053\n",
            "Epoch: 18/20... Step: 2460... Loss: 1.2628... Val Loss: 1.3102\n",
            "Epoch: 18/20... Step: 2470... Loss: 1.2521... Val Loss: 1.3092\n",
            "Epoch: 18/20... Step: 2480... Loss: 1.2444... Val Loss: 1.3046\n",
            "Epoch: 18/20... Step: 2490... Loss: 1.2373... Val Loss: 1.3050\n",
            "Epoch: 18/20... Step: 2500... Loss: 1.2420... Val Loss: 1.3066\n",
            "Epoch: 19/20... Step: 2510... Loss: 1.2502... Val Loss: 1.3049\n",
            "Epoch: 19/20... Step: 2520... Loss: 1.2603... Val Loss: 1.3024\n",
            "Epoch: 19/20... Step: 2530... Loss: 1.2573... Val Loss: 1.3053\n",
            "Epoch: 19/20... Step: 2540... Loss: 1.2699... Val Loss: 1.3013\n",
            "Epoch: 19/20... Step: 2550... Loss: 1.2372... Val Loss: 1.2985\n",
            "Epoch: 19/20... Step: 2560... Loss: 1.2401... Val Loss: 1.3027\n",
            "Epoch: 19/20... Step: 2570... Loss: 1.2362... Val Loss: 1.3002\n",
            "Epoch: 19/20... Step: 2580... Loss: 1.2583... Val Loss: 1.3006\n",
            "Epoch: 19/20... Step: 2590... Loss: 1.2182... Val Loss: 1.2986\n",
            "Epoch: 19/20... Step: 2600... Loss: 1.2207... Val Loss: 1.2959\n",
            "Epoch: 19/20... Step: 2610... Loss: 1.2297... Val Loss: 1.2940\n",
            "Epoch: 19/20... Step: 2620... Loss: 1.2243... Val Loss: 1.2977\n",
            "Epoch: 19/20... Step: 2630... Loss: 1.2298... Val Loss: 1.2920\n",
            "Epoch: 19/20... Step: 2640... Loss: 1.2355... Val Loss: 1.2913\n",
            "Epoch: 20/20... Step: 2650... Loss: 1.2368... Val Loss: 1.2892\n",
            "Epoch: 20/20... Step: 2660... Loss: 1.2438... Val Loss: 1.2841\n",
            "Epoch: 20/20... Step: 2670... Loss: 1.2483... Val Loss: 1.2872\n",
            "Epoch: 20/20... Step: 2680... Loss: 1.2356... Val Loss: 1.2871\n",
            "Epoch: 20/20... Step: 2690... Loss: 1.2229... Val Loss: 1.2847\n",
            "Epoch: 20/20... Step: 2700... Loss: 1.2334... Val Loss: 1.2845\n",
            "Epoch: 20/20... Step: 2710... Loss: 1.2031... Val Loss: 1.2806\n",
            "Epoch: 20/20... Step: 2720... Loss: 1.2080... Val Loss: 1.2866\n",
            "Epoch: 20/20... Step: 2730... Loss: 1.1966... Val Loss: 1.2847\n",
            "Epoch: 20/20... Step: 2740... Loss: 1.1990... Val Loss: 1.2834\n",
            "Epoch: 20/20... Step: 2750... Loss: 1.2028... Val Loss: 1.2834\n",
            "Epoch: 20/20... Step: 2760... Loss: 1.1984... Val Loss: 1.2852\n",
            "Epoch: 20/20... Step: 2770... Loss: 1.2424... Val Loss: 1.2806\n",
            "Epoch: 20/20... Step: 2780... Loss: 1.2667... Val Loss: 1.2843\n"
          ],
          "name": "stdout"
        }
      ]
    },
    {
      "cell_type": "code",
      "metadata": {
        "id": "ByfX4UHW7vbY",
        "colab_type": "code",
        "colab": {}
      },
      "source": [
        "# change the name, for saving multiple files\n",
        "model_name = 'rnn_20_epoch.net'\n",
        "\n",
        "checkpoint = {'n_hidden': net.n_hidden,\n",
        "              'n_layers': net.n_layers,\n",
        "              'state_dict': net.state_dict(),\n",
        "              'tokens': net.chars}\n",
        "\n",
        "with open(model_name, 'wb') as f:\n",
        "    torch.save(checkpoint, f)\n"
      ],
      "execution_count": 0,
      "outputs": []
    },
    {
      "cell_type": "code",
      "metadata": {
        "id": "QlfNuVWboiZT",
        "colab_type": "code",
        "colab": {}
      },
      "source": [
        "def predict(net, char, h=None, top_k=None):\n",
        "        ''' Given a character, predict the next character.\n",
        "            Returns the predicted character and the hidden state.\n",
        "        '''\n",
        "        \n",
        "        # tensor inputs\n",
        "        x = np.array([[net.char2int[char]]])\n",
        "        x = one_hot_encode(x, len(net.chars))\n",
        "        inputs = torch.from_numpy(x)\n",
        "        \n",
        "        if(train_on_gpu):\n",
        "            inputs = inputs.cuda()\n",
        "        \n",
        "        # detach hidden state from history\n",
        "        h = tuple([each.data for each in h])\n",
        "        # get the output of the model\n",
        "        out, h = net(inputs, h)\n",
        "\n",
        "        # get the character probabilities\n",
        "        p = F.softmax(out, dim=1).data\n",
        "        if(train_on_gpu):\n",
        "            p = p.cpu() # move to cpu\n",
        "        \n",
        "        # get top characters\n",
        "        if top_k is None:\n",
        "            top_ch = np.arange(len(net.chars))\n",
        "        else:\n",
        "            p, top_ch = p.topk(top_k)\n",
        "            top_ch = top_ch.numpy().squeeze()\n",
        "        \n",
        "        # select the likely next character with some element of randomness\n",
        "        p = p.numpy().squeeze()\n",
        "        char = np.random.choice(top_ch, p=p/p.sum())\n",
        "        \n",
        "        # return the encoded value of the predicted char and the hidden state\n",
        "        return net.int2char[char], h"
      ],
      "execution_count": 0,
      "outputs": []
    },
    {
      "cell_type": "code",
      "metadata": {
        "id": "Xkvdvie_ookZ",
        "colab_type": "code",
        "colab": {}
      },
      "source": [
        "def sample(net, size, prime='The', top_k=None):\n",
        "        \n",
        "    if(train_on_gpu):\n",
        "        net.cuda()\n",
        "    else:\n",
        "        net.cpu()\n",
        "    \n",
        "    net.eval() # eval mode\n",
        "    \n",
        "    # First off, run through the prime characters\n",
        "    chars = [ch for ch in prime]\n",
        "    h = net.init_hidden(1)\n",
        "    for ch in prime:\n",
        "        char, h = predict(net, ch, h, top_k=top_k)\n",
        "\n",
        "    chars.append(char)\n",
        "    \n",
        "    # Now pass in the previous character and get a new one\n",
        "    for ii in range(size):\n",
        "        char, h = predict(net, chars[-1], h, top_k=top_k)\n",
        "        chars.append(char)\n",
        "\n",
        "    return ''.join(chars)\n",
        "    "
      ],
      "execution_count": 0,
      "outputs": []
    },
    {
      "cell_type": "code",
      "metadata": {
        "id": "xjofy8PxosIK",
        "colab_type": "code",
        "outputId": "e5d39e00-24ee-458e-94b9-31281e31a78b",
        "colab": {
          "base_uri": "https://localhost:8080/",
          "height": 425
        }
      },
      "source": [
        "print(sample(net, 1000, prime='Anna', top_k=5))"
      ],
      "execution_count": 20,
      "outputs": [
        {
          "output_type": "stream",
          "text": [
            "Anna and the\n",
            "painteds the most play of cast as he constantly began to say in\n",
            "a feelings and a mill of supposition. And had taken away,\n",
            "and the peasants, who was\n",
            "talking of her friend, to her, he was\n",
            "after the back and at the poon broks wearing happy. He had said,\n",
            "belaining his head and had been asserted.\n",
            "\n",
            "\"Yes, yes, I'm gliding. How do you did be mere all that I say\n",
            "indeed, and that you know the position, was that they can't\n",
            "say was so are there's the father's arrival to the carpering of her? I will\n",
            "go to almost the same man who has been in\n",
            "love, was starting out who have a door and the children.\"\n",
            "\n",
            "\"Oh, you're doubt, but is've seen it. It's not to great abratting.\"\n",
            "\n",
            "\"Why?\" asked Varenka smiling. \"You did all see where the\n",
            "chest was is three things, and I'll say, I can't let me.\n",
            "And I am saying.\"\n",
            "\n",
            "Stepan Arkadyevitch's secretary and the capitated was an\n",
            "accompare, that in a words observed in spite of his strange, and that he had to\n",
            "be, when the sound of helpless, and an answer, who came out\n",
            "\n"
          ],
          "name": "stdout"
        }
      ]
    },
    {
      "cell_type": "code",
      "metadata": {
        "id": "OEQ9akk4ouri",
        "colab_type": "code",
        "outputId": "cf9e1a5b-0007-4f03-818d-f47cd14079df",
        "colab": {
          "base_uri": "https://localhost:8080/",
          "height": 34
        }
      },
      "source": [
        "# Here we have loaded in a model that trained over 20 epochs `rnn_20_epoch.net`\n",
        "with open('rnn_20_epoch.net', 'rb') as f:\n",
        "    checkpoint = torch.load(f)\n",
        "    \n",
        "loaded = CharRNN(checkpoint['tokens'], n_hidden=checkpoint['n_hidden'], n_layers=checkpoint['n_layers'])\n",
        "loaded.load_state_dict(checkpoint['state_dict'])"
      ],
      "execution_count": 21,
      "outputs": [
        {
          "output_type": "execute_result",
          "data": {
            "text/plain": [
              "<All keys matched successfully>"
            ]
          },
          "metadata": {
            "tags": []
          },
          "execution_count": 21
        }
      ]
    },
    {
      "cell_type": "code",
      "metadata": {
        "id": "24GAyhcqoyIV",
        "colab_type": "code",
        "colab": {
          "base_uri": "https://localhost:8080/",
          "height": 680
        },
        "outputId": "dde870bc-2f75-4bb2-8bbf-ff761c613c07"
      },
      "source": [
        "# Sample using a loaded model\n",
        "print(sample(loaded, 2000, top_k=5, prime=\"And Levin said\"))"
      ],
      "execution_count": 22,
      "outputs": [
        {
          "output_type": "stream",
          "text": [
            "And Levin said, but the same table\n",
            "of her, who was too thing, and will natural and her heart\n",
            "already was sorring to the carriage of his way. \"You do anything\n",
            "all one's cleat and plan of its, the delage, but that's that\n",
            "table,\" he added as she was as it was so such instant,\n",
            "and all he had taking his feelings and so to be the more, though she seemed to him to be\n",
            "asked him, but all that to how it should be dared and askant what the\n",
            "compary of that the standside and husband sould had never said.\n",
            "\n",
            "She was not that him was not to step in a stidy of her.\n",
            "\n",
            "The chief tenderness are, at his simple that the days\n",
            "were simply for them, and she showed in his brother at her. \"How's it arred\n",
            "with them?\" he said: \"What are I'm greatly andred as a child,\" he asked\n",
            "that he was a carryance of which he heard the sone.\n",
            "\n",
            "\"Well, I cannot to care?\" the cropded and stopping about the\n",
            "ran to Levin, and heard strange in his hand. \"Watch you attracting\n",
            "it, there is a century of a second mind and she would\n",
            "not see, he's thought. I don't say. The same. How is it to tell him\n",
            "and too, but I was a glad of all--to buy to the strange world. The character on\n",
            "the capest hower it is's to see his mind and the communication.\" And she did not\n",
            "see that, with side--the steps, he had not been it\n",
            "seeing the convertation that he winter as he heard the secretary of his\n",
            "husband's wife, so she sand to him.\n",
            "\n",
            "\"Well, told, who, is you something?\" she said in the country.\n",
            "\n",
            "\"Well, and you will do the sand of the present. I don't\n",
            "know it that the princess. He wouldn't be it only to soor some most atfaction in that.\n",
            "And the princess took him and say in the master, was a man in the\n",
            "same and some more from that feeling with a sort of\n",
            "conditions that the conversation was this new man in a\n",
            "marshal. There was if I don't knew at a letter of\n",
            "that moment in that path, what are you at all.\"\n",
            "\n",
            "\"Where's any old man,\" he said to himself, but that he had\n",
            "talked that the same hurried hands, who\n",
            "was deperitules, than in the province, and as it were the\n"
          ],
          "name": "stdout"
        }
      ]
    },
    {
      "cell_type": "code",
      "metadata": {
        "id": "R7iqv_cfo1fe",
        "colab_type": "code",
        "colab": {}
      },
      "source": [
        ""
      ],
      "execution_count": 0,
      "outputs": []
    }
  ]
}